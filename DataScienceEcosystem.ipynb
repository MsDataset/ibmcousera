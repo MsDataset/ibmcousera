{
 "cells": [
  {
   "cell_type": "markdown",
   "id": "10f9df39-661d-4da8-9f30-4db7e2f1fe3e",
   "metadata": {},
   "source": [
    "# Data Science Tools and Ecosystem"
   ]
  },
  {
   "cell_type": "markdown",
   "id": "87010c08-cf30-45fb-a9ae-22e8d859c746",
   "metadata": {},
   "source": [
    "In this notebook, Data Science Tools and Ecosystem are summarized."
   ]
  },
  {
   "cell_type": "markdown",
   "id": "50a8c09f-65c8-4a34-a9ed-811e96573f30",
   "metadata": {},
   "source": [
    "**Objectives**\n",
    "\n",
    "* List of popular languages in Data Science\n",
    "\n",
    "* Commonly used libraries in Data Science\n",
    "\n",
    "* Data Science Tools\n",
    "\n",
    "* Evaluating arithmetic expressions in Python\n"
   ]
  },
  {
   "cell_type": "markdown",
   "id": "0da1171a-a6ce-4b0d-906a-995288f094be",
   "metadata": {},
   "source": [
    "Some of the popular languages that Data Scientists use are:\n",
    "1. Python\n",
    "2. R\n",
    "3. C++\n",
    "4. Java script"
   ]
  },
  {
   "cell_type": "markdown",
   "id": "f148838e-d98e-4f66-9f50-507a46f95b67",
   "metadata": {},
   "source": [
    "Some of the commonly used libraries used by Data Scientists include:\n",
    "1. Pandas\n",
    "2. Matplotlib\n",
    "3. NumPy\n",
    "4. Seaborn\n",
    "5. TensorFlow"
   ]
  },
  {
   "cell_type": "markdown",
   "id": "adf0da65-ace7-43c9-838a-073475dceb0b",
   "metadata": {},
   "source": [
    "| Data Science Tools |\n",
    "|--------------------|\n",
    "| R Studio           |\n",
    "| Jupyter Notebook   |\n",
    "| Spyder             |"
   ]
  },
  {
   "cell_type": "markdown",
   "id": "62b1ca31-4f4c-42f9-a4f4-cfca6b439dc3",
   "metadata": {},
   "source": [
    "### Below are a few examples of evaluating arithmetic expressions in Python."
   ]
  },
  {
   "cell_type": "code",
   "execution_count": 1,
   "id": "4992f10b-8bb7-4412-a4b3-5ef001c58ee5",
   "metadata": {},
   "outputs": [
    {
     "data": {
      "text/plain": [
       "17"
      ]
     },
     "execution_count": 1,
     "metadata": {},
     "output_type": "execute_result"
    }
   ],
   "source": [
    "# This a simple arithmetic expression to mutiply then add integers\n",
    "(3*4)+5"
   ]
  },
  {
   "cell_type": "code",
   "execution_count": 2,
   "id": "1cb8a814-a3c9-4f4f-a177-1392f21d923b",
   "metadata": {},
   "outputs": [
    {
     "name": "stdout",
     "output_type": "stream",
     "text": [
      "3.3333333333333335\n"
     ]
    }
   ],
   "source": [
    "# This will convert 200 minutes to hours by diving by 60\n",
    "hours = 200/60\n",
    "print(hours)"
   ]
  },
  {
   "cell_type": "markdown",
   "id": "11e7bb64-599c-45fb-8676-f0bdf9d6091d",
   "metadata": {},
   "source": [
    "## Author ##\n",
    "\n",
    "Rachael Arowolo"
   ]
  },
  {
   "cell_type": "code",
   "execution_count": null,
   "id": "f8592ea8-ff1f-4bb9-a284-6d8f375423ff",
   "metadata": {},
   "outputs": [],
   "source": []
  }
 ],
 "metadata": {
  "kernelspec": {
   "display_name": "Python",
   "language": "python",
   "name": "conda-env-python-py"
  },
  "language_info": {
   "codemirror_mode": {
    "name": "ipython",
    "version": 3
   },
   "file_extension": ".py",
   "mimetype": "text/x-python",
   "name": "python",
   "nbconvert_exporter": "python",
   "pygments_lexer": "ipython3",
   "version": "3.7.12"
  }
 },
 "nbformat": 4,
 "nbformat_minor": 5
}
